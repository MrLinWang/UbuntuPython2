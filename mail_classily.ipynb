{
 "cells": [
  {
   "cell_type": "code",
   "execution_count": 1,
   "metadata": {},
   "outputs": [],
   "source": [
    "#coding=utf8\n",
    "from tgrocery import Grocery"
   ]
  },
  {
   "cell_type": "code",
   "execution_count": 2,
   "metadata": {},
   "outputs": [],
   "source": [
    "train_src = [\n",
    "    ('garbage', '(AD)蒲公英新品X5首发：你的第一台“跳蛋”路由器'),\n",
    "    ('garbage', '016 IBM云计算峰会报名免费抢座-2016.10.19 北京国际饭店会议中心'),\n",
    "    ('garbage', 'Can We Talk? Setting the Record Straight About 4 Content Misconceptions'),\n",
    "    ('garbage', '欢迎参加简仪科技开源测控技术研讨会-北京站2016年9月22日'),\n",
    "    ('garbage', 'NEW! Advance your career with 19 MicroMasters programs'),\n",
    "    ('garbage', '0.1元购家电！iPhone6s-Plus仅4488，海尔热水器699~10亿优惠券狂撒，国庆福利快接着→'),\n",
    "    ('normal', '[WeLoop社区] 论坛注册地址 - 论坛注册地址 这封信是由 WeLoop社区 发送的'),\n",
    "    ('normal', 'Fwd: [Bitbucket] SSH key added to futurenlp'),\n",
    "    ('normal', '您的帐户在Linux设备上的Chrome中有新的登录活动'),\n",
    "    ('normal', '神经网络与深度学习代码'),\n",
    "    ('normal', 'Fw:关于ICP备案申请审核通过的通知'),\n",
    "    ('normal', '技术部-SSL数字加密证书')\n",
    "]"
   ]
  },
  {
   "cell_type": "code",
   "execution_count": 3,
   "metadata": {},
   "outputs": [
    {
     "name": "stderr",
     "output_type": "stream",
     "text": [
      "Building prefix dict from the default dictionary ...\n",
      "Loading model from cache /tmp/jieba.cache\n",
      "Loading model cost 0.404 seconds.\n",
      "Prefix dict has been built succesfully.\n"
     ]
    }
   ],
   "source": [
    "# 创建一个 grocery，'mail_class'为模型名称\n",
    "grocery = Grocery('mail_class')\n",
    "\n",
    "grocery.train(train_src)\n",
    "\n",
    "grocery.save()"
   ]
  },
  {
   "cell_type": "code",
   "execution_count": 4,
   "metadata": {},
   "outputs": [],
   "source": [
    "# Load model(和之前设的名字一样)\n",
    "new_grocery = Grocery('mail_class')\n",
    "\n",
    "new_grocery.load()"
   ]
  },
  {
   "cell_type": "code",
   "execution_count": 5,
   "metadata": {},
   "outputs": [
    {
     "name": "stdout",
     "output_type": "stream",
     "text": [
      "normal\n"
     ]
    }
   ],
   "source": [
    "# 预测\n",
    "print new_grocery.predict('关于神经网络与深度学习一书源码')\n",
    "# education\n",
    "# Test from list\n",
    "# test_src = [\n",
    "#     ('education', 'Abbott government spends $8 million on higher education media blitz'),\n",
    "#     ('sports', 'Middle East and Asia boost investment in top level sports'),\n",
    "# ]\n",
    "# new_grocery.test(test_src)\n",
    "# # Return Accuracy\n",
    "# # 1.0\n",
    "# # Or test from file\n",
    "# new_grocery.test('test_ch.txt')\n",
    "# # Custom tokenize\n",
    "# custom_grocery = Grocery('custom', custom_tokenize=list)"
   ]
  },
  {
   "cell_type": "code",
   "execution_count": 6,
   "metadata": {},
   "outputs": [
    {
     "name": "stdout",
     "output_type": "stream",
     "text": [
      "garbage\n"
     ]
    }
   ],
   "source": [
    "print new_grocery.predict('199元带您走进区块链，腾讯大牛亲授《区块链编程：Solidity以')"
   ]
  },
  {
   "cell_type": "code",
   "execution_count": 7,
   "metadata": {},
   "outputs": [
    {
     "name": "stdout",
     "output_type": "stream",
     "text": [
      "normal\n"
     ]
    }
   ],
   "source": [
    "print new_grocery.predict('This message is important for you')"
   ]
  },
  {
   "cell_type": "code",
   "execution_count": 8,
   "metadata": {},
   "outputs": [
    {
     "name": "stdout",
     "output_type": "stream",
     "text": [
      "garbage\n"
     ]
    }
   ],
   "source": [
    "print new_grocery.predict('亚马逊排行榜有奖调研 (AD)')"
   ]
  },
  {
   "cell_type": "code",
   "execution_count": null,
   "metadata": {},
   "outputs": [],
   "source": []
  }
 ],
 "metadata": {
  "kernelspec": {
   "display_name": "Python 2",
   "language": "python",
   "name": "python2"
  },
  "language_info": {
   "codemirror_mode": {
    "name": "ipython",
    "version": 2
   },
   "file_extension": ".py",
   "mimetype": "text/x-python",
   "name": "python",
   "nbconvert_exporter": "python",
   "pygments_lexer": "ipython2",
   "version": "2.7.14"
  }
 },
 "nbformat": 4,
 "nbformat_minor": 2
}
